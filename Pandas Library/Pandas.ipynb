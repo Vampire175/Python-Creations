{
 "cells": [
  {
   "cell_type": "code",
   "execution_count": 5,
   "id": "48821069-f833-4bb3-8c21-3544269d6aec",
   "metadata": {},
   "outputs": [],
   "source": [
    "import pandas as pd\n",
    "import numpy as np"
   ]
  },
  {
   "cell_type": "code",
   "execution_count": 6,
   "id": "4a65b020-aa23-4fe4-a0ee-24f938ad8ee9",
   "metadata": {},
   "outputs": [],
   "source": [
    "dict1={\n",
    "    'Name':['Aryan','Harry'],\n",
    "    'City':['Mumbai','Rampur']\n",
    "}"
   ]
  },
  {
   "cell_type": "code",
   "execution_count": 7,
   "id": "09cf491a-d8b4-4358-ab3a-04906a2d24e2",
   "metadata": {},
   "outputs": [],
   "source": [
    "df=pd.DataFrame(dict1)"
   ]
  },
  {
   "cell_type": "code",
   "execution_count": 8,
   "id": "3138dbd4-3108-42c8-854e-af0790aeeb81",
   "metadata": {},
   "outputs": [
    {
     "name": "stdout",
     "output_type": "stream",
     "text": [
      "    Name    City\n",
      "0  Aryan  Mumbai\n",
      "1  Harry  Rampur\n"
     ]
    }
   ],
   "source": [
    "print(df)"
   ]
  },
  {
   "cell_type": "code",
   "execution_count": 9,
   "id": "54a055f5-2569-41fa-8f2d-7661397faee4",
   "metadata": {},
   "outputs": [],
   "source": [
    "df.to_csv('friends.csv',index=False)"
   ]
  },
  {
   "cell_type": "code",
   "execution_count": null,
   "id": "065dbfef-5acf-44a1-b9b6-902556d28a8d",
   "metadata": {},
   "outputs": [],
   "source": []
  }
 ],
 "metadata": {
  "kernelspec": {
   "display_name": "Python 3 (ipykernel)",
   "language": "python",
   "name": "python3"
  },
  "language_info": {
   "codemirror_mode": {
    "name": "ipython",
    "version": 3
   },
   "file_extension": ".py",
   "mimetype": "text/x-python",
   "name": "python",
   "nbconvert_exporter": "python",
   "pygments_lexer": "ipython3",
   "version": "3.12.3"
  }
 },
 "nbformat": 4,
 "nbformat_minor": 5
}
